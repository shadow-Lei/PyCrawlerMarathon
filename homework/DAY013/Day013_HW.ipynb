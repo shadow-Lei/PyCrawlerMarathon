{
 "cells": [
  {
   "cell_type": "markdown",
   "metadata": {},
   "source": [
    "# PTT 網路爬蟲實作練習\n",
    "\n",
    "\n",
    "* 能夠利用 Request + BeatifulSour 撰寫爬蟲，並存放到合適的資料結構\n"
   ]
  },
  {
   "cell_type": "markdown",
   "metadata": {},
   "source": [
    "## 作業目標\n",
    "\n",
    "根據範例 ，完成以下問題：\n",
    "\n",
    "* ① 印出最新文章的「作者」「標題」「時間」\n",
    "* ② 印出第一頁所有文章的「作者」「標題」「時間」\n"
   ]
  },
  {
   "cell_type": "markdown",
   "metadata": {},
   "source": [
    "### ① 印出最新文章的「作者」「標題」「時間」"
   ]
  },
  {
   "cell_type": "code",
   "execution_count": 19,
   "metadata": {},
   "outputs": [
    {
     "name": "stdout",
     "output_type": "stream",
     "text": [
      "XperiaZ6C [新聞] 大三元對決！威少砍42+12+10惜敗　字母  3/14\n",
      "Rambo [BOX ] Blazers 125:121 Timberwolves 數據  3/14\n",
      "ivo88114 [情報]  C.Anthony生涯總得分超越Hakeem Olajuwo  3/14\n",
      "iammatrix Re: [情報]  C.Anthony生涯總得分超越Hakeem Olajuwo  3/14\n",
      "avrild12 [情報] 今日五名球員完成大三元 NBA歷史單日最多  3/14\n",
      "sezna [情報] 嘴綠：贏下更多比賽我就能競爭DPOY，咖哩  3/14\n",
      "Rambo [BOX ] Pacers 122:111 Suns 數據  3/14\n",
      "thnlkj0665 [新聞] 隊上小老弟灌籃大賽奪冠 里拉德自曝送關鍵  3/14\n",
      "KyrieIrving1 [花邊] 哈登：超越伯德很榮幸，我希望自己的名字  3/14\n",
      "laptic [BOX ] Mavericks 116:103 Nuggets 數據  3/14\n",
      "kakala99 [花邊] 科爾：格林會是名人堂成員，他的作用無法  3/14\n",
      "Vedan [公告] 板規v6.8  5/24\n",
      "laigei [情報] 2020-21 自由球員市場異動 (表格)(12/10) 11/19\n",
      "laigei [情報] 2020-21 自由球員市場異動 (每日文字)   11/19\n",
      "laptic [情報] SEASON Schedule 賽程 March 20–21  2/26\n",
      "hp6304 Fw: [情報] 33rd 小天使招考（3/8～3/18）  3/10\n"
     ]
    }
   ],
   "source": [
    "import requests\n",
    "from bs4 import BeautifulSoup\n",
    "\n",
    "url = 'https://www.ptt.cc/bbs/NBA/index.html'\n",
    "r = requests.get(url)\n",
    "\n",
    "soup = BeautifulSoup(r.text, \"html5\")\n",
    "\n",
    "for a in soup.find_all(class_='r-ent'):\n",
    "    try:\n",
    "        print(a.find(class_='meta').find(class_='author').text.replace('\\t', ''),a.find(class_='title').text.replace('\\n', '').replace('\\t', ''),a.find(class_='date').text.replace('\\n', '').replace('\\t', ''))\n",
    "    except:\n",
    "        continue"
   ]
  },
  {
   "cell_type": "markdown",
   "metadata": {},
   "source": [
    "### ② 印出第一頁所有文章的「作者」「標題」「時間」"
   ]
  },
  {
   "cell_type": "code",
   "execution_count": 33,
   "metadata": {},
   "outputs": [
    {
     "data": {
      "text/plain": [
       "[{'標題': '[新聞] 大三元對決！威少砍42+12+10惜敗\\u3000字母',\n",
       "  '作者': 'XperiaZ6C (索尼)',\n",
       "  '時間': 'Sun Mar 14 11:21:54 2021'}]"
      ]
     },
     "execution_count": 33,
     "metadata": {},
     "output_type": "execute_result"
    }
   ],
   "source": [
    "import requests\n",
    "from bs4 import BeautifulSoup\n",
    "\n",
    "url = 'https://www.ptt.cc/bbs/NBA/index.html'\n",
    "r = requests.get(url)\n",
    "\n",
    "soup = BeautifulSoup(r.text, \"html\")\n",
    "\n",
    "posts = []\n",
    "for a in soup.find_all(class_='title'):\n",
    "    try:\n",
    "        post = {}\n",
    "        post['標題'] = a.text.replace('\\t', '').replace('\\n', '')\n",
    "        \n",
    "        r = BeautifulSoup(requests.get('https://www.ptt.cc'+a.find('a')['href']).text, \"html\")\n",
    "        post['作者'] = r.find(class_='article-meta-value').text\n",
    "        post['時間'] = r.find_all(class_='article-meta-value')[-1].text\n",
    "        posts.append(post)\n",
    "        break\n",
    "    except:\n",
    "        continue\n",
    "        \n",
    "posts = sorted(posts, key= lambda x: x['時間'])\n",
    "posts"
   ]
  },
  {
   "cell_type": "markdown",
   "metadata": {},
   "source": [
    "### ③ 試著爬爬看其他版的文章"
   ]
  },
  {
   "cell_type": "code",
   "execution_count": 22,
   "metadata": {},
   "outputs": [
    {
     "name": "stdout",
     "output_type": "stream",
     "text": [
      "martinqqq321 [問題] 爬蟲程式如何判斷某些連結的檔名  3/01\n",
      "beryl522 [問題] 新手請教 excel範圍讀取和寫入  3/02\n",
      "hau0218 [問題] 正規表達式-車牌號碼  3/03\n",
      "asd24693120 [問題] 無法安裝Python-numpy-dbg及其他的套件  3/03\n",
      "Tombo [問題] 關於K-fold交叉驗證的一段程式碼  3/08\n",
      "ddavid Re: [問題] 關於K-fold交叉驗證的一段程式碼  3/09\n",
      "mpyh12345 [問題] 截圖忽略某些視窗/程式  3/10\n",
      "hcl012 [問題] pip安裝了卻找不到requests模組  3/11\n",
      "timwen [問題] ScrolledText的問題  3/11\n",
      "crm123 刪除類似資料  3/12\n",
      "tzouandy2818 Re: 刪除類似資料  3/12\n",
      "lensfill [問題] pill修改圖片  3/12\n",
      "LP9527 Re: 刪除類似資料  3/13\n",
      "hoho8 [問題] 存網圖但不要改變檔案的\"建立、修改日期\"  3/13\n",
      "Matt2 [問題] 新增欄位並給予預設值  3/14\n"
     ]
    }
   ],
   "source": [
    "import requests\n",
    "from bs4 import BeautifulSoup\n",
    "\n",
    "url = 'https://www.ptt.cc/bbs/Python/index.html'\n",
    "r = requests.get(url)\n",
    "\n",
    "soup = BeautifulSoup(r.text, \"html5\")\n",
    "\n",
    "for a in soup.find_all(class_='r-ent'):\n",
    "    try:\n",
    "        print(a.find(class_='meta').find(class_='author').text.replace('\\t', ''),a.find(class_='title').text.replace('\\n', '').replace('\\t', ''),a.find(class_='date').text.replace('\\n', '').replace('\\t', ''))\n",
    "    except:\n",
    "        continue"
   ]
  },
  {
   "cell_type": "code",
   "execution_count": null,
   "metadata": {},
   "outputs": [],
   "source": []
  }
 ],
 "metadata": {
  "kernelspec": {
   "display_name": "Python 3",
   "language": "python",
   "name": "python3"
  },
  "language_info": {
   "codemirror_mode": {
    "name": "ipython",
    "version": 3
   },
   "file_extension": ".py",
   "mimetype": "text/x-python",
   "name": "python",
   "nbconvert_exporter": "python",
   "pygments_lexer": "ipython3",
   "version": "3.8.5"
  }
 },
 "nbformat": 4,
 "nbformat_minor": 4
}
