{
 "cells": [
  {
   "cell_type": "markdown",
   "metadata": {},
   "source": [
    "# YAHOO電影爬蟲練習\n",
    "## 練習爬取電影放映資訊。必須逐步獲取電影的代號、放映地區、放映日期後，再送出查詢給伺服器。"
   ]
  },
  {
   "cell_type": "code",
   "execution_count": 1,
   "metadata": {},
   "outputs": [],
   "source": [
    "import requests\n",
    "import re\n",
    "from bs4 import BeautifulSoup"
   ]
  },
  {
   "cell_type": "markdown",
   "metadata": {},
   "source": [
    "### 先搜尋全部的電影代號(ID)資訊"
   ]
  },
  {
   "cell_type": "code",
   "execution_count": 2,
   "metadata": {},
   "outputs": [
    {
     "name": "stdout",
     "output_type": "stream",
     "text": [
      "Movie: 魔坑, ID: 11275\n",
      "Movie: 春風化雨, ID: 11266\n",
      "Movie: 終極異噬界, ID: 11257\n",
      "Movie: 波麗萊多里鬼屋, ID: 11242\n",
      "Movie: 今天決定我愛你, ID: 11241\n",
      "Movie: 我愛你，你愛她，她愛他, ID: 11228\n",
      "Movie: 金窩駭浪, ID: 11226\n",
      "Movie: 幸福剛剛好, ID: 11199\n",
      "Movie: 倒數第N次分手, ID: 11188\n",
      "Movie: 揭大歡喜, ID: 11171\n",
      "Movie: 間諜之妻, ID: 11069\n",
      "Movie: 花漾女子, ID: 10519\n",
      "Movie: 弒樂園, ID: 11248\n",
      "Movie: 聽見臺灣, ID: 11235\n",
      "Movie: 女也, ID: 11230\n",
      "Movie: 淺田家！, ID: 11227\n",
      "Movie: 醉好的時光, ID: 11223\n",
      "Movie: 東經北緯, ID: 11222\n",
      "Movie: 尋龍使者：拉雅, ID: 11219\n",
      "Movie: 噪反, ID: 11169\n",
      "Movie: Fate/Grand Order-神聖圓桌領域卡美洛-Wandering; Agateram, ID: 11116\n",
      "Movie: 鬼故事收藏館, ID: 11100\n",
      "Movie: 名偵探柯南：緋色的不在場證明, ID: 11281\n",
      "Movie: 紫羅蘭永恆花園電影版, ID: 11260\n",
      "Movie: 末日終結戰, ID: 11246\n",
      "Movie: 竊聽風暴：數位修復版, ID: 11234\n",
      "Movie: 詐欺女王, ID: 11217\n",
      "Movie: 銀魂 THE FINAL, ID: 11209\n",
      "Movie: 刺殺小說家, ID: 11205\n",
      "Movie: 我的母親 經典數位修復, ID: 11195\n",
      "Movie: 100%小狼人, ID: 11182\n",
      "Movie: 複身犯, ID: 11160\n",
      "Movie: 夏目友人帳特別上映版—喚石與可疑訪客, ID: 11104\n",
      "Movie: 澪之料理帖, ID: 11098\n",
      "Movie: 迴路追殺令, ID: 11207\n",
      "Movie: 墮落天使, ID: 11197\n",
      "Movie: 溫蒂, ID: 11189\n",
      "Movie: 男兒王, ID: 11186\n",
      "Movie: 跟你老婆去旅行, ID: 11183\n",
      "Movie: STAND BY ME 哆啦A夢2, ID: 11179\n",
      "Movie: 我沒有談的那場戀愛, ID: 11159\n",
      "Movie: 湯姆貓與傑利鼠, ID: 11072\n",
      "Movie: 角頭–浪流連, ID: 11162\n",
      "Movie: 幽靈戰場, ID: 11216\n",
      "Movie: 無邪, ID: 11168\n",
      "Movie: 龍貓, ID: 11163\n",
      "Movie: 馬里蓋拉：革命先鋒, ID: 11118\n",
      "Movie: 緝魂, ID: 11113\n",
      "Movie: 想見你的愛, ID: 11064\n",
      "Movie: 她們玩到掛, ID: 11059\n",
      "Movie: 《屁屁偵探：咖哩香料事件》＋《屁屁偵探：瓢蟲遺蹟之謎》, ID: 11174\n",
      "Movie: 叱咤風雲, ID: 11181\n",
      "Movie: 馬德里金庫盜數90分鐘, ID: 11184\n",
      "Movie: 蠢蛋告別式, ID: 11166\n",
      "Movie: 冰血驚魂, ID: 11142\n",
      "Movie: 凶宅怪談, ID: 11128\n",
      "Movie: 聖誕殺戮日, ID: 11067\n",
      "Movie: 破處那件小事, ID: 11029\n",
      "Movie: 空中謎航, ID: 11152\n",
      "Movie: 拆彈專家2, ID: 10986\n",
      "Movie: 杏林醫院, ID: 10781\n",
      "Movie: 靈魂急轉彎, ID: 11089\n",
      "Movie: 真愛鄰距離, ID: 11101\n",
      "Movie: 腿, ID: 10934\n",
      "Movie: 高校棋蹟, ID: 11099\n",
      "Movie: 神力女超人1984, ID: 10413\n",
      "Movie: 信用詐欺師JP：公主篇, ID: 11021\n",
      "Movie: 魔物獵人, ID: 10983\n",
      "Movie: 親愛的殺手, ID: 10861\n",
      "Movie: 緝毒風暴, ID: 11023\n",
      "Movie: 古魯家族：新石代, ID: 10958\n",
      "Movie: 盜墓同盟, ID: 11031\n",
      "Movie: 婊兄弟上路, ID: 11003\n",
      "Movie: 你是豬, ID: 10995\n",
      "Movie: 同學麥娜絲, ID: 10935\n",
      "Movie: 孤味, ID: 10477\n",
      "Movie: 玩美女人 經典數位修復, ID: 10910\n",
      "Movie: 鬼滅之刃劇場版 無限列車篇, ID: 10816\n",
      "Movie: 親愛的房客, ID: 10707\n",
      "Movie: PJ 哈維：戰地拾音錄, ID: 10772\n",
      "Movie: 末代皇帝, ID: 10640\n",
      "Movie: 倫敦呼叫, ID: 7079\n",
      "Movie: 一首搖滾上月球, ID: 4887\n",
      "Movie: 超時空甩尾, ID: 3783\n",
      "Movie: 錢不夠用2, ID: 3026\n"
     ]
    }
   ],
   "source": [
    "# 查看目前上映那些電影，並擷取出其ID資訊\n",
    "url = 'https://movies.yahoo.com.tw/'\n",
    "resp = requests.get(url)\n",
    "resp.encoding = 'utf-8'\n",
    "\n",
    "soup = BeautifulSoup(resp.text, 'lxml')\n",
    "html = soup.find(\"select\", attrs={'name':'movie_id'})\n",
    "movie_item = html.find_all(\"option\", attrs={'data-name':re.compile('.*')})\n",
    "\n",
    "for p in movie_item:\n",
    "    print(\"Movie: %s, ID: %s\" % (p[\"data-name\"], p[\"value\"]))"
   ]
  },
  {
   "cell_type": "markdown",
   "metadata": {},
   "source": [
    "### 指定你有興趣的電影其ID，然後查詢其放映地區資訊。"
   ]
  },
  {
   "cell_type": "code",
   "execution_count": 3,
   "metadata": {},
   "outputs": [],
   "source": [
    "# 參考前一個步驟中擷取到的ID資訊，並指定ID\n",
    "movie_id = 11116"
   ]
  },
  {
   "cell_type": "code",
   "execution_count": 6,
   "metadata": {},
   "outputs": [
    {
     "name": "stdout",
     "output_type": "stream",
     "text": [
      "放映地區: 台北市, 代號(area_id): 28\n",
      "放映地區: 新北市, 代號(area_id): 8\n",
      "放映地區: 桃園, 代號(area_id): 16\n",
      "放映地區: 新竹, 代號(area_id): 20\n",
      "放映地區: 苗栗, 代號(area_id): 15\n",
      "放映地區: 台中, 代號(area_id): 2\n",
      "放映地區: 台南, 代號(area_id): 10\n",
      "放映地區: 高雄, 代號(area_id): 17\n",
      "放映地區: 宜蘭, 代號(area_id): 11\n"
     ]
    }
   ],
   "source": [
    "url = 'https://movies.yahoo.com.tw/api/v1/areas_by_movie_theater'\n",
    "payload = {'movie_id':str(movie_id)}\n",
    "\n",
    "# 模擬一個header\n",
    "headers = {\n",
    "    'authority': 'movies.yahoo.com.tw',\n",
    "    'method': 'GET',\n",
    "    'path': '/api/v1/areas_by_movie_theater?movie_id=' + str(movie_id),\n",
    "    'scheme': 'https',\n",
    "    'accept': 'application/json, text/javascript, */*; q=0.01',\n",
    "    'accept-encoding': 'gzip, deflate, br',\n",
    "    'accept-language': 'zh-TW,zh;q=0.9,en-US;q=0.8,en;q=0.7,zh-CN;q=0.6',\n",
    "    'cookie': 'rxx=9s3x2fws06.1g16irnc&v=1; _ga=GA1.3.2056742944.1551651301; GUC=AQEBAQFczFpdm0IfmwSB&s=AQAAACoo4N5D&g=XMsVBw; BX=4hkdk1decm57t&b=3&s=mr; _ga=GA1.4.2056742944.1551651301; nexagesuid=82843256dd234e8e91aa73f2062f8218; browsed_movie=eyJpdiI6IlJXWWtiSWJaZlNGK2MxQnhscnVUYWc9PSIsInZhbHVlIjoiMXRhMmVHRXRIeUNjc1RBWDJzdGYwbnlIQURmWGsrcjJSMzhkbkcraDNJVUNIZEZsbzU3amlFcVZ1NzlmazJrTGpoMjVrbHk1YmpoRENXaHZTOUw1TmI2ZTZVWHdOejZQZm16RmVuMWlHTTJLaTZLVFZZVkFOMDlTd1wvSGltcytJIiwibWFjIjoiZWQ2ZjA4MmVjZmZlYjlmNjJmYmY2NGMyMDI0Njc0NWViYjVkOWE2NDg0N2RhODMxZjBjZDhiMmJhZTc2MDZhYiJ9; avi=eyJpdiI6Im1NeWFJRlVRWDR1endEcGRGUGJUbVE9PSIsInZhbHVlIjoickRpU3JuUytmcGl6cjF5OW0rNU9iZz09IiwibWFjIjoiY2VmY2NkNzZmM2NhNjY5YzlkOTcyNjE5OGEyMzU0NWYxOTdmMDRkMDY3OWNmMmZjOTMxYjc5MjI5N2Q5NGE5MiJ9; cmp=t=1559391030&j=0; _gid=GA1.4.779543841.1559391031; XSRF-TOKEN=eyJpdiI6IkhpS2hGcDRQaHlmWUJmaHdSS2Q2bHc9PSIsInZhbHVlIjoiOUVoNFk4OHI1UUZmUWRtYXhza0MyWjJSTlhlZ3RnT0VGeVJPN2JuczVRMGRFdWt2OUlsamVKeHRobFwvcHBGM0dhU3VyMXNGTHlsb2dVM2l0U1hpUGxBPT0iLCJtYWMiOiJkZWU4YzJhNjAxMTY3MzE4Y2ExNWIxYmE1ZjE1YWZlZTlhOTcyYjc4M2RlZGY4ZWNjZDYyMTA2NGYwZGViMzc2In0%3D; m_s=eyJpdiI6InpsZHZ2Tk1BZ0dxaHhETml1RjBnUXc9PSIsInZhbHVlIjoiSkNGeHUranRoXC85bDFiaDhySTJqNkJRcWdjWUxjeVRJSHVYZ1wvd2d4bWJZUTUrSHVDM0lUcW5KNHdETFZ4T1lieU81OUhzc1VoUXhZcWk0UDZSQXVFdz09IiwibWFjIjoiYmJkMDJkMDhlODIzMzcyMWY4M2NmYWNjNGVlOWRjMDIwZmVmNzAyMjE3Yzg3ZGY3ODBkZWEzZTI4MTI5ZWNmOSJ9; _gat=1; nexagesd=10',\n",
    "    'dnt': '1',\n",
    "    'mv-authorization': '21835b082e15b91a69b3851eec7b31b82ce82afb',\n",
    "    'referer': 'https://movies.yahoo.com.tw/',\n",
    "    'user-agent': 'Mozilla/5.0 (Windows NT 10.0; Win64; x64) AppleWebKit/537.36 (KHTML, like Gecko) Chrome/74.0.3729.169 Safari/537.36',\n",
    "    'x-requested-with': 'XMLHttpRequest',\n",
    "}\n",
    "    \n",
    "resp = requests.get(url, params=payload, headers=headers)\n",
    "#print(resp.json())  # 若有需要，列印出json原始碼\n",
    "\n",
    "# 這裡回傳的格式是JSON格式的資料，要解析JSON擷取資料\n",
    "for p in resp.json():\n",
    "    print('放映地區: {0}, 代號(area_id): {1}'.format(p['title'], p['area_id']))"
   ]
  },
  {
   "cell_type": "markdown",
   "metadata": {},
   "source": [
    "### 指定你想要觀看的放映地區，查詢有上映電影的場次日期"
   ]
  },
  {
   "cell_type": "code",
   "execution_count": 7,
   "metadata": {},
   "outputs": [],
   "source": [
    "# 指定放映地區\n",
    "area_id = 8"
   ]
  },
  {
   "cell_type": "code",
   "execution_count": 11,
   "metadata": {},
   "outputs": [
    {
     "name": "stdout",
     "output_type": "stream",
     "text": [
      "三月 14\n",
      "三月 15\n",
      "三月 16\n",
      "三月 17\n",
      "三月 18\n"
     ]
    }
   ],
   "source": [
    "# 向網站發送請求\n",
    "url = 'https://movies.yahoo.com.tw/movietime_result.html'\n",
    "payload = {'movie_id':str(movie_id), 'area_id':str(area_id)}\n",
    "resp = requests.get(url, params=payload)\n",
    "resp.encoding = 'utf-8'\n",
    "\n",
    "soup = BeautifulSoup(resp.text, 'lxml')\n",
    "movie_date = soup.find_all(\"label\", attrs={'for':re.compile(\"date_[\\d]\")})\n",
    "\n",
    "#print(soup)\n",
    "# 列印播放日期\n",
    "for date in movie_date:\n",
    "    print(\"%s %s\" % (date.p.string, date.h3.string))"
   ]
  },
  {
   "cell_type": "markdown",
   "metadata": {},
   "source": [
    "### 最後指定觀看的日期，查詢並列印出放映的電影院、放映類型(數位、3D、IMAX 3D...)、放映時間等資訊。"
   ]
  },
  {
   "cell_type": "code",
   "execution_count": 12,
   "metadata": {},
   "outputs": [],
   "source": [
    "# 選定要觀看的日期\n",
    "date = \"2021-03-18\""
   ]
  },
  {
   "cell_type": "code",
   "execution_count": 13,
   "metadata": {},
   "outputs": [],
   "source": [
    "# 向網站發送請求，獲取上映的電影院及時間資訊\n",
    "url = \"https://movies.yahoo.com.tw/ajax/pc/get_schedule_by_movie\"\n",
    "payload = {'movie_id':str(movie_id),\n",
    "           'date':date,\n",
    "           'area_id':str(area_id)}\n",
    "\n",
    "resp = requests.get(url, params=payload)\n",
    "#print(resp.json()['view'])  # 若有需要，列印出json原始碼\n",
    "\n",
    "soup = BeautifulSoup(resp.json()['view'], 'lxml')\n",
    "html = soup.find_all(\"ul\", attrs={'data-theater_name':re.compile(\".*\")})"
   ]
  },
  {
   "cell_type": "code",
   "execution_count": 25,
   "metadata": {},
   "outputs": [
    {
     "name": "stdout",
     "output_type": "stream",
     "text": [
      "電影院: 板橋大遠百威秀影城\n",
      "電話: 02-77386608\n",
      "放映類型: 數位\n",
      "放映時間: 14:50\n",
      "放映時間: 18:50\n",
      "電影院: 林口MITSUI OUTLET PARK威秀影城\n",
      "電話: 02-26068099\n",
      "放映類型: 數位\n",
      "放映時間: 11:10\n"
     ]
    }
   ],
   "source": [
    "'''\n",
    "  試著從上一步驟回傳的電影院資料中，擷取電影院名稱、影片放映類型以及時間表\n",
    "'''\n",
    "for a in soup.find_all(\"ul\", attrs={'data-theater_name':re.compile(\".*\")}):\n",
    "    #print(a)\n",
    "    movietheater=a.find(class_='adds').find('a').text\n",
    "    movietheaterTel=a.find(class_='adds').find('span').text\n",
    "    movietype=a.find(class_='tapR').text\n",
    "    time=a.find_all(class_='select')\n",
    "    print('電影院:',movietheater)\n",
    "    print('電話:',movietheaterTel)\n",
    "    print('放映類型:',movietype)\n",
    "    for t in time:\n",
    "        print('放映時間:',t.text)"
   ]
  }
 ],
 "metadata": {
  "kernelspec": {
   "display_name": "Python 3",
   "language": "python",
   "name": "python3"
  },
  "language_info": {
   "codemirror_mode": {
    "name": "ipython",
    "version": 3
   },
   "file_extension": ".py",
   "mimetype": "text/x-python",
   "name": "python",
   "nbconvert_exporter": "python",
   "pygments_lexer": "ipython3",
   "version": "3.8.5"
  }
 },
 "nbformat": 4,
 "nbformat_minor": 4
}
