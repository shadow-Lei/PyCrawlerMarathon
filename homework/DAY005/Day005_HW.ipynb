{
 "cells": [
  {
   "cell_type": "markdown",
   "metadata": {},
   "source": [
    "# API 資料串接 - 以 Dcard API 實作範例\n",
    "\n",
    "* 了解 Dcard API 使用方式與回傳內容\n",
    "* 撰寫程式存取 API 且解析 JSON 格式資料\n"
   ]
  },
  {
   "cell_type": "markdown",
   "metadata": {},
   "source": [
    "## 作業目標\n",
    "\n",
    "* 請利用 API: https://www.dcard.tw/_api/forums/pet/posts?popular=true 回答下列問題：\n",
    "\n",
    "1. 這個 API 一次會回傳幾筆資料？每一筆資料包含哪些欄位？\n",
    "2. 取出每一筆資料的「標題」、「貼文時間」、「留言人數」、「按讚人數」\n",
    "3. 計算熱門/非熱門文章的「平均留言人數」與「平均按讚人數」"
   ]
  },
  {
   "cell_type": "code",
   "execution_count": 61,
   "metadata": {
    "scrolled": true
   },
   "outputs": [
    {
     "name": "stderr",
     "output_type": "stream",
     "text": [
      "<ipython-input-61-bbfa43750482>:10: DeprecationWarning: use options instead of chrome_options\n",
      "  chrome = webdriver.Chrome(executable_path='D:/chromedriver.exe', chrome_options=options)\n"
     ]
    }
   ],
   "source": [
    "from selenium import webdriver\n",
    "from selenium.webdriver.chrome.options import Options\n",
    "from bs4 import BeautifulSoup\n",
    "import requests\n",
    "import json\n",
    "\n",
    "options = Options()\n",
    "options.add_argument(\"--disable-notifications\")\n",
    "\n",
    "chrome = webdriver.Chrome(executable_path='D:/chromedriver.exe', chrome_options=options)\n",
    "chrome.get(\" https://www.dcard.tw/_api/forums/pet/posts?popular=true\")\n",
    "\n",
    "soup = BeautifulSoup(chrome.page_source, \"html\")\n",
    "data=soup.select('pre')[0].text\n",
    "data = json.loads(data)\n",
    "\n",
    "\n",
    "chrome.close()\n",
    "chrome.quit()"
   ]
  },
  {
   "cell_type": "code",
   "execution_count": 62,
   "metadata": {},
   "outputs": [
    {
     "name": "stdout",
     "output_type": "stream",
     "text": [
      "一次回傳30筆資料\n",
      "包含以下的欄位:\n",
      "id\n",
      "title\n",
      "excerpt\n",
      "anonymousSchool\n",
      "anonymousDepartment\n",
      "pinned\n",
      "forumId\n",
      "replyId\n",
      "createdAt\n",
      "updatedAt\n",
      "commentCount\n",
      "likeCount\n",
      "withNickname\n",
      "tags\n",
      "topics\n",
      "meta\n",
      "forumName\n",
      "forumAlias\n",
      "nsfw\n",
      "gender\n",
      "school\n",
      "department\n",
      "replyTitle\n",
      "mediaMeta\n",
      "reactions\n",
      "hidden\n",
      "customStyle\n",
      "isSuspiciousAccount\n",
      "isModerator\n",
      "layout\n",
      "spoilerAlert\n",
      "withImages\n",
      "withVideos\n",
      "media\n",
      "reportReasonText\n",
      "excerptComments\n",
      "postAvatar\n",
      "verifiedBadge\n"
     ]
    }
   ],
   "source": [
    "# 1. 這個 API 一次會回傳幾筆資料？每一筆資料包含哪些欄位？\n",
    "print('一次回傳'+str(len(data))+'筆資料')\n",
    "print('包含以下的欄位:')\n",
    "for d in data[0]:\n",
    "    print(d)\n",
    "    "
   ]
  },
  {
   "cell_type": "code",
   "execution_count": 63,
   "metadata": {
    "scrolled": false
   },
   "outputs": [
    {
     "name": "stdout",
     "output_type": "stream",
     "text": [
      "標題1: 刺蝟寶寶們出生時有刺嗎? 貼文時間: 2021-02-06T03:24:47.611Z 留言人數: 44 按讚人數: 1552\n",
      "標題2: 黑特 全亞洲最大的寵物樂園 貼文時間: 2021-02-06T14:12:22.385Z 留言人數: 60 按讚人數: 1108\n",
      "標題3: 用腳摸寵物會很壞嗎 貼文時間: 2021-02-06T05:36:02.487Z 留言人數: 84 按讚人數: 629\n",
      "標題4: 超ㄎㄧㄤ的表情😂 貼文時間: 2021-02-06T09:31:33.405Z 留言人數: 8 按讚人數: 223\n",
      "標題5: 那天，豆柴終於回想起⋯ 貼文時間: 2021-02-06T01:45:25.110Z 留言人數: 4 按讚人數: 104\n",
      "標題6: 我的貓每天翻肚子誘惑我 貼文時間: 2021-02-06T17:32:45.274Z 留言人數: 6 按讚人數: 95\n",
      "標題7: #送養 請容我說個故事... 貼文時間: 2021-02-06T08:31:23.153Z 留言人數: 7 按讚人數: 63\n",
      "標題8: 大家期望的獸醫「應該」是什麼樣子？ 貼文時間: 2021-02-06T14:53:55.499Z 留言人數: 6 按讚人數: 34\n",
      "標題9: 女生看臉真的看得出來 貼文時間: 2021-02-06T12:30:15.559Z 留言人數: 7 按讚人數: 32\n",
      "標題10: #協尋 已找到\n",
      "朋友因為車禍寵物當下嚇到跑走了\n",
      "因為剛做完寵物美容，在回家路上發生車禍，所以身上還沒掛項圈\n",
      "走失地點：桃園八德國際路一段寶雅旁邊\n",
      "走失時間：110年02月05日 晚上 22:30左右\n",
      "特徵：黃色米克斯、母、捲尾、八字眉、瘦、身上只有掛寵物美容後的小福袋\n",
      "如有看到麻煩聯絡\n",
      "伍先生\n",
      "電話：0922739371\n",
      "\n",
      "另外我第一次發文 所以不太會排版 覺得不舒服的對不起 貼文時間: 2021-02-06T05:00:20.980Z 留言人數: 4 按讚人數: 27\n",
      "標題11: #問 貓咪屁股受傷 貼文時間: 2021-02-06T15:57:31.608Z 留言人數: 4 按讚人數: 22\n",
      "標題12: 原來天竺鼠車車是這樣演的 貼文時間: 2021-02-06T18:23:28.966Z 留言人數: 2 按讚人數: 18\n",
      "標題13: 我家的背背貓 貼文時間: 2021-02-06T05:29:01.250Z 留言人數: 3 按讚人數: 17\n",
      "標題14: 有樣學樣 貼文時間: 2021-02-06T10:42:48.467Z 留言人數: 0 按讚人數: 14\n",
      "標題15: 盯著你的嘴唇 貼文時間: 2021-02-06T00:44:12.136Z 留言人數: 1 按讚人數: 12\n",
      "標題16: 不是爸爸的腿我可是不躺的唷 貼文時間: 2021-02-06T13:32:01.483Z 留言人數: 0 按讚人數: 11\n",
      "標題17: 別人家的庭院真好🥺 貼文時間: 2021-02-06T09:51:06.819Z 留言人數: 0 按讚人數: 11\n",
      "標題18: 寵物店的寵物是生命不是玩具(更) 貼文時間: 2021-02-06T13:05:52.238Z 留言人數: 2 按讚人數: 10\n",
      "標題19: 求主人認領或愛鳥人士收養/領養 貼文時間: 2021-02-06T02:30:38.131Z 留言人數: 4 按讚人數: 10\n",
      "標題20: 家裡有人類觀察員 貼文時間: 2021-02-06T15:52:19.079Z 留言人數: 0 按讚人數: 9\n",
      "標題21: 急尋！高雄小港米克斯 貼文時間: 2021-02-06T16:23:44.904Z 留言人數: 0 按讚人數: 8\n",
      "標題22: 雙開模式 貼文時間: 2021-02-06T15:23:07.902Z 留言人數: 0 按讚人數: 8\n",
      "標題23: 母橘是不是養不胖 貼文時間: 2021-02-07T05:08:28.510Z 留言人數: 2 按讚人數: 7\n",
      "標題24: #問 養貓用品 貼文時間: 2021-02-07T01:28:14.887Z 留言人數: 22 按讚人數: 7\n",
      "標題25: 這眼這臉，合理嗎？ 貼文時間: 2021-02-06T19:44:28.702Z 留言人數: 3 按讚人數: 7\n",
      "標題26: （影片）貓咪喵喵叫的時候一定要叫他名字🥺 貼文時間: 2021-02-07T03:56:25.394Z 留言人數: 5 按讚人數: 6\n",
      "標題27: 逐漸膨脹的貓貓🐱 貼文時間: 2021-02-07T04:50:16.771Z 留言人數: 2 按讚人數: 5\n",
      "標題28: 貓咪的好笑打哈欠 貼文時間: 2021-02-07T03:59:59.827Z 留言人數: 0 按讚人數: 4\n",
      "標題29: 愛犬走失 😢 貼文時間: 2021-02-06T10:09:35.873Z 留言人數: 0 按讚人數: 4\n",
      "標題30: 幫我的新崽崽取名字🐹 貼文時間: 2021-02-06T08:16:26.091Z 留言人數: 5 按讚人數: 4\n"
     ]
    }
   ],
   "source": [
    "# 2. 取出每一筆資料的「標題」、「貼文時間」、「留言人數」、「按讚人數」\n",
    "num=1\n",
    "for d in data:\n",
    "    print('標題'+str(num)+':',d['title'],'貼文時間:',d['createdAt'],'留言人數:',d['commentCount'],'按讚人數:',d['likeCount'])\n",
    "    num+=1\n"
   ]
  },
  {
   "cell_type": "code",
   "execution_count": 65,
   "metadata": {},
   "outputs": [
    {
     "name": "stderr",
     "output_type": "stream",
     "text": [
      "<ipython-input-65-719cbad33f5e>:10: DeprecationWarning: use options instead of chrome_options\n",
      "  chrome = webdriver.Chrome(executable_path='D:/chromedriver.exe', chrome_options=options)\n"
     ]
    }
   ],
   "source": [
    "from selenium import webdriver\n",
    "from selenium.webdriver.chrome.options import Options\n",
    "from bs4 import BeautifulSoup\n",
    "import requests\n",
    "import json\n",
    "\n",
    "options = Options()\n",
    "options.add_argument(\"--disable-notifications\")\n",
    "\n",
    "chrome = webdriver.Chrome(executable_path='D:/chromedriver.exe', chrome_options=options)\n",
    "chrome.get(\" https://www.dcard.tw/_api/forums/pet/posts?popular=false\")\n",
    "\n",
    "soup = BeautifulSoup(chrome.page_source, \"html\")\n",
    "data2=soup.select('pre')[0].text\n",
    "data2 = json.loads(data2)\n",
    "\n",
    "\n",
    "chrome.close()\n",
    "chrome.quit()"
   ]
  },
  {
   "cell_type": "code",
   "execution_count": 69,
   "metadata": {},
   "outputs": [
    {
     "name": "stdout",
     "output_type": "stream",
     "text": [
      "熱門:平均留言人數: 9.5 平均按讚人數: 135.36666666666667\n",
      "非熱門:平均留言人數: 2.6333333333333333 平均按讚人數: 0.0\n"
     ]
    }
   ],
   "source": [
    "# 3. 計算熱門/非熱門文章的「平均留言人數」與「平均按讚人數」\n",
    "commentCountH=0\n",
    "likeCountH=0\n",
    "commentCountC=0\n",
    "likeCountC=0\n",
    "\n",
    "for d in data:\n",
    "    commentCountH+=int(d['commentCount'])\n",
    "    likeCountH+=int(d['likeCount'])\n",
    "for d1 in data2:\n",
    "    commentCountC+=int(d1['commentCount'])\n",
    "    likeCountC=int(d1['likeCount'])\n",
    "    \n",
    "print('熱門:平均留言人數:',commentCountH/30,'平均按讚人數:',likeCountH/30)\n",
    "print('非熱門:平均留言人數:',commentCountC/30,'平均按讚人數:',likeCountC/30)"
   ]
  },
  {
   "cell_type": "code",
   "execution_count": null,
   "metadata": {},
   "outputs": [],
   "source": []
  }
 ],
 "metadata": {
  "kernelspec": {
   "display_name": "Python 3",
   "language": "python",
   "name": "python3"
  },
  "language_info": {
   "codemirror_mode": {
    "name": "ipython",
    "version": 3
   },
   "file_extension": ".py",
   "mimetype": "text/x-python",
   "name": "python",
   "nbconvert_exporter": "python",
   "pygments_lexer": "ipython3",
   "version": "3.8.5"
  }
 },
 "nbformat": 4,
 "nbformat_minor": 2
}
