{
 "cells": [
  {
   "cell_type": "markdown",
   "id": "equal-storage",
   "metadata": {},
   "source": [
    "# API 資料串接 - 以 Dcard API 實作範例\n",
    "\n",
    "* 了解 Dcard API 使用方式與回傳內容\n",
    "* 撰寫程式存取 API 且解析 JSON 格式資料\n"
   ]
  },
  {
   "cell_type": "markdown",
   "id": "confidential-dakota",
   "metadata": {},
   "source": [
    "## 作業目標\n",
    "\n",
    "* 請利用 API: https://www.dcard.tw/_api/forums/pet/posts?popular=true 回答下列問題：\n",
    "\n",
    "1. 這個 API 一次會回傳幾筆資料？每一筆資料包含哪些欄位？\n",
    "2. 取出每一筆資料的「標題」、「貼文時間」、「留言人數」、「按讚人數」\n",
    "3. 計算熱門/非熱門文章的「平均留言人數」與「平均按讚人數」"
   ]
  },
  {
   "cell_type": "code",
   "execution_count": 1,
   "id": "different-shadow",
   "metadata": {},
   "outputs": [],
   "source": [
    "# 1. 這個 API 一次會回傳幾筆資料？每一筆資料包含哪些欄位？\n",
    "\n",
    "import requests\n",
    "r = requests.get('https://www.dcard.tw/_api/forums/pet/posts?popular=true')\n",
    "response = r.text\n",
    "\n",
    "import json\n",
    "data = json.loads(response)\n",
    "\n"
   ]
  },
  {
   "cell_type": "code",
   "execution_count": 2,
   "id": "fifth-malta",
   "metadata": {},
   "outputs": [
    {
     "name": "stdout",
     "output_type": "stream",
     "text": [
      "一次回傳30筆資料\n",
      "包含以下的欄位:\n",
      "id\n",
      "title\n",
      "excerpt\n",
      "anonymousSchool\n",
      "anonymousDepartment\n",
      "pinned\n",
      "forumId\n",
      "replyId\n",
      "createdAt\n",
      "updatedAt\n",
      "commentCount\n",
      "likeCount\n",
      "withNickname\n",
      "tags\n",
      "topics\n",
      "meta\n",
      "forumName\n",
      "forumAlias\n",
      "nsfw\n",
      "gender\n",
      "school\n",
      "department\n",
      "replyTitle\n",
      "mediaMeta\n",
      "reactions\n",
      "hidden\n",
      "customStyle\n",
      "isSuspiciousAccount\n",
      "isModerator\n",
      "layout\n",
      "spoilerAlert\n",
      "withImages\n",
      "withVideos\n",
      "media\n",
      "reportReasonText\n",
      "excerptComments\n",
      "postAvatar\n",
      "verifiedBadge\n"
     ]
    }
   ],
   "source": [
    "# 1. 這個 API 一次會回傳幾筆資料？每一筆資料包含哪些欄位？\n",
    "print('一次回傳'+str(len(data))+'筆資料')\n",
    "print('包含以下的欄位:')\n",
    "for d in data[0]:\n",
    "    print(d)"
   ]
  },
  {
   "cell_type": "code",
   "execution_count": 3,
   "id": "laden-dutch",
   "metadata": {},
   "outputs": [
    {
     "name": "stdout",
     "output_type": "stream",
     "text": [
      "標題1: 妳家貓的蛋蛋怎麼那麼大😳 貼文時間: 2021-03-05T09:02:15.378Z 留言人數: 25 按讚人數: 1568\n",
      "標題2: 發現我女兒的真身‼️ 貼文時間: 2021-03-06T03:23:46.367Z 留言人數: 9 按讚人數: 403\n",
      "標題3: 美容院調包我的狗？！ 貼文時間: 2021-03-06T03:15:41.647Z 留言人數: 24 按讚人數: 289\n",
      "標題4: 自以為是的「愛媽」 貼文時間: 2021-03-05T13:07:40.141Z 留言人數: 44 按讚人數: 154\n",
      "標題5: 我搶到的東西就是我的，休想要回來！ 貼文時間: 2021-03-05T15:34:23.506Z 留言人數: 10 按讚人數: 104\n",
      "標題6: 第一次養貓就養一直想要的橘貓🍊 貼文時間: 2021-03-06T06:30:21.347Z 留言人數: 17 按讚人數: 83\n",
      "標題7: 確定領養了卻被寄養的人拒絕？ 貼文時間: 2021-03-06T03:47:10.799Z 留言人數: 13 按讚人數: 82\n",
      "標題8: 母貓取名 貼文時間: 2021-03-05T12:17:24.353Z 留言人數: 59 按讚人數: 80\n",
      "標題9: 對豆卡頻道貼圖超興奮的貓 貼文時間: 2021-03-06T05:16:55.290Z 留言人數: 9 按讚人數: 69\n",
      "標題10: 貓咪突然性情轉變 貼文時間: 2021-03-06T05:59:07.608Z 留言人數: 9 按讚人數: 60\n",
      "標題11: 貓咪可能被蚊子咬的相關問題 貼文時間: 2021-03-05T12:56:21.764Z 留言人數: 5 按讚人數: 41\n",
      "標題12: 有人能認養貓貓嗎，拜託大家 貼文時間: 2021-03-06T04:51:08.132Z 留言人數: 17 按讚人數: 27\n",
      "標題13: 我家兔子只會幹我 貼文時間: 2021-03-05T09:15:51.056Z 留言人數: 3 按讚人數: 24\n",
      "標題14: #鼠鼠 分享可愛寶貝一枚🥰 貼文時間: 2021-03-05T08:59:33.707Z 留言人數: 8 按讚人數: 24\n",
      "標題15: 新竹寵物送養 貼文時間: 2021-03-05T09:14:59.317Z 留言人數: 7 按讚人數: 22\n",
      "標題16: 狗狗容易喘怎麼辦? 貼文時間: 2021-03-05T07:52:47.684Z 留言人數: 4 按讚人數: 20\n",
      "標題17: 橘貓姿勢多，最近學會拉筋 貼文時間: 2021-03-05T03:01:20.359Z 留言人數: 4 按讚人數: 20\n",
      "標題18: 一直有惡意留言誤刪文重發_咖啡廳貓衝到馬路攻擊狗 貼文時間: 2021-03-05T13:22:46.500Z 留言人數: 0 按讚人數: 19\n",
      "標題19: 哦不我的天🥲🥲🥲🥲 貼文時間: 2021-03-06T09:13:42.399Z 留言人數: 2 按讚人數: 18\n",
      "標題20: #台中 #貓咪領養或幫忙分享 貼文時間: 2021-03-06T10:05:03.855Z 留言人數: 0 按讚人數: 16\n",
      "標題21: 汪喵星球 85%機能魚油 貼文時間: 2021-03-05T19:03:10.245Z 留言人數: 2 按讚人數: 16\n",
      "標題22: 【看！吉白】霸道總裁｜把你阿嬤賣掉｜搵搵動畫 貼文時間: 2021-03-06T12:01:56.577Z 留言人數: 0 按讚人數: 15\n",
      "標題23: 基隆仁愛市場旁有親人母貓 貼文時間: 2021-03-05T18:26:55.763Z 留言人數: 0 按讚人數: 15\n",
      "標題24: 貓咪的仰角 貼文時間: 2021-03-05T15:42:03.204Z 留言人數: 1 按讚人數: 15\n",
      "標題25: 黃阿瑪的後宮生活影片Part1 貼文時間: 2021-03-05T10:39:49.367Z 留言人數: 0 按讚人數: 15\n",
      "標題26: 放任狗1樓炸屎！住戶開大絕「1招奏效了」　千人歪見本尊裸照嗨了 貼文時間: 2021-03-06T06:04:15.445Z 留言人數: 1 按讚人數: 14\n",
      "標題27: 更新芋圓的近況 也希望大家幫忙 貼文時間: 2021-03-06T04:44:37.439Z 留言人數: 2 按讚人數: 14\n",
      "標題28: 有可以隔音的外出包嗎 貼文時間: 2021-03-06T04:03:52.568Z 留言人數: 7 按讚人數: 14\n",
      "標題29: 貓咪端火鍋 貼文時間: 2021-03-05T17:50:15.696Z 留言人數: 6 按讚人數: 14\n",
      "標題30: 何謂合格的愛貓貓舍？ 貼文時間: 2021-03-05T13:05:55.028Z 留言人數: 7 按讚人數: 14\n"
     ]
    }
   ],
   "source": [
    "# 2. 取出每一筆資料的「標題」、「貼文時間」、「留言人數」、「按讚人數」\n",
    "num=1\n",
    "for d in data:\n",
    "    print('標題'+str(num)+':',d['title'],'貼文時間:',d['createdAt'],'留言人數:',d['commentCount'],'按讚人數:',d['likeCount'])\n",
    "    num+=1"
   ]
  },
  {
   "cell_type": "code",
   "execution_count": 4,
   "id": "polar-radio",
   "metadata": {},
   "outputs": [],
   "source": [
    "\n",
    "import requests\n",
    "r = requests.get('https://www.dcard.tw/_api/forums/pet/posts?popular=false')\n",
    "response = r.text\n",
    "\n",
    "import json\n",
    "data2 = json.loads(response)\n",
    "\n"
   ]
  },
  {
   "cell_type": "code",
   "execution_count": 5,
   "id": "usual-railway",
   "metadata": {},
   "outputs": [
    {
     "name": "stdout",
     "output_type": "stream",
     "text": [
      "熱門:平均留言人數: 9.833333333333334 平均按讚人數: 108.96666666666667\n",
      "非熱門:平均留言人數: 4.733333333333333 平均按讚人數: 0.2\n"
     ]
    }
   ],
   "source": [
    "# 3. 計算熱門/非熱門文章的「平均留言人數」與「平均按讚人數」\n",
    "commentCountH=0\n",
    "likeCountH=0\n",
    "commentCountC=0\n",
    "likeCountC=0\n",
    "\n",
    "for d in data:\n",
    "    commentCountH+=int(d['commentCount'])\n",
    "    likeCountH+=int(d['likeCount'])\n",
    "for d1 in data2:\n",
    "    commentCountC+=int(d1['commentCount'])\n",
    "    likeCountC=int(d1['likeCount'])\n",
    "    \n",
    "print('熱門:平均留言人數:',commentCountH/30,'平均按讚人數:',likeCountH/30)\n",
    "print('非熱門:平均留言人數:',commentCountC/30,'平均按讚人數:',likeCountC/30)"
   ]
  },
  {
   "cell_type": "code",
   "execution_count": null,
   "id": "subject-russell",
   "metadata": {},
   "outputs": [],
   "source": []
  }
 ],
 "metadata": {
  "kernelspec": {
   "display_name": "Python 3",
   "language": "python",
   "name": "python3"
  },
  "language_info": {
   "codemirror_mode": {
    "name": "ipython",
    "version": 3
   },
   "file_extension": ".py",
   "mimetype": "text/x-python",
   "name": "python",
   "nbconvert_exporter": "python",
   "pygments_lexer": "ipython3",
   "version": "3.8.5"
  }
 },
 "nbformat": 4,
 "nbformat_minor": 5
}
